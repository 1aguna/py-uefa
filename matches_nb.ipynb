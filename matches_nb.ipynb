{
 "nbformat": 4,
 "nbformat_minor": 2,
 "metadata": {
  "language_info": {
   "name": "python",
   "codemirror_mode": {
    "name": "ipython",
    "version": 3
   },
   "version": "3.7.3-final"
  },
  "orig_nbformat": 2,
  "file_extension": ".py",
  "mimetype": "text/x-python",
  "name": "python",
  "npconvert_exporter": "python",
  "pygments_lexer": "ipython3",
  "version": 3,
  "kernelspec": {
   "name": "python37364bit3f2257a12fbd4944badc561a6e49f36c",
   "display_name": "Python 3.7.3 64-bit"
  }
 },
 "cells": [
  {
   "cell_type": "markdown",
   "metadata": {},
   "source": [
    "# Imports and Loading CSV"
   ]
  },
  {
   "cell_type": "code",
   "execution_count": 1,
   "metadata": {},
   "outputs": [],
   "source": [
    "import pandas as pd\n",
    "import numpy as np\n",
    "import matplotlib as plt"
   ]
  },
  {
   "cell_type": "code",
   "execution_count": 4,
   "metadata": {},
   "outputs": [
    {
     "data": {
      "text/html": "<div>\n<style scoped>\n    .dataframe tbody tr th:only-of-type {\n        vertical-align: middle;\n    }\n\n    .dataframe tbody tr th {\n        vertical-align: top;\n    }\n\n    .dataframe thead th {\n        text-align: right;\n    }\n</style>\n<table border=\"1\" class=\"dataframe\">\n  <thead>\n    <tr style=\"text-align: right;\">\n      <th></th>\n      <th>Div</th>\n      <th>Date</th>\n      <th>HomeTeam</th>\n      <th>AwayTeam</th>\n      <th>FTHG</th>\n      <th>FTAG</th>\n      <th>FTR</th>\n      <th>HTHG</th>\n      <th>HTAG</th>\n      <th>HTR</th>\n      <th>Season</th>\n    </tr>\n  </thead>\n  <tbody>\n    <tr>\n      <th>9317</th>\n      <td>E0</td>\n      <td>9/9/2017</td>\n      <td>Leicester</td>\n      <td>Chelsea</td>\n      <td>1</td>\n      <td>2</td>\n      <td>A</td>\n      <td>0.0</td>\n      <td>1.0</td>\n      <td>A</td>\n      <td>2017-18</td>\n    </tr>\n    <tr>\n      <th>9314</th>\n      <td>E0</td>\n      <td>9/9/2017</td>\n      <td>Arsenal</td>\n      <td>Bournemouth</td>\n      <td>3</td>\n      <td>0</td>\n      <td>H</td>\n      <td>2.0</td>\n      <td>0.0</td>\n      <td>H</td>\n      <td>2017-18</td>\n    </tr>\n    <tr>\n      <th>9320</th>\n      <td>E0</td>\n      <td>9/9/2017</td>\n      <td>Stoke</td>\n      <td>Man United</td>\n      <td>2</td>\n      <td>2</td>\n      <td>D</td>\n      <td>1.0</td>\n      <td>1.0</td>\n      <td>D</td>\n      <td>2017-18</td>\n    </tr>\n    <tr>\n      <th>9319</th>\n      <td>E0</td>\n      <td>9/9/2017</td>\n      <td>Southampton</td>\n      <td>Watford</td>\n      <td>0</td>\n      <td>2</td>\n      <td>A</td>\n      <td>0.0</td>\n      <td>1.0</td>\n      <td>A</td>\n      <td>2017-18</td>\n    </tr>\n    <tr>\n      <th>9318</th>\n      <td>E0</td>\n      <td>9/9/2017</td>\n      <td>Man City</td>\n      <td>Liverpool</td>\n      <td>5</td>\n      <td>0</td>\n      <td>H</td>\n      <td>2.0</td>\n      <td>0.0</td>\n      <td>H</td>\n      <td>2017-18</td>\n    </tr>\n    <tr>\n      <th>...</th>\n      <td>...</td>\n      <td>...</td>\n      <td>...</td>\n      <td>...</td>\n      <td>...</td>\n      <td>...</td>\n      <td>...</td>\n      <td>...</td>\n      <td>...</td>\n      <td>...</td>\n      <td>...</td>\n    </tr>\n    <tr>\n      <th>249</th>\n      <td>E0</td>\n      <td>1/1/1994</td>\n      <td>Man United</td>\n      <td>Leeds</td>\n      <td>0</td>\n      <td>0</td>\n      <td>D</td>\n      <td>NaN</td>\n      <td>NaN</td>\n      <td>NaN</td>\n      <td>1993-94</td>\n    </tr>\n    <tr>\n      <th>248</th>\n      <td>E0</td>\n      <td>1/1/1994</td>\n      <td>Ipswich</td>\n      <td>Liverpool</td>\n      <td>1</td>\n      <td>2</td>\n      <td>A</td>\n      <td>NaN</td>\n      <td>NaN</td>\n      <td>NaN</td>\n      <td>1993-94</td>\n    </tr>\n    <tr>\n      <th>247</th>\n      <td>E0</td>\n      <td>1/1/1994</td>\n      <td>Everton</td>\n      <td>West Ham</td>\n      <td>0</td>\n      <td>1</td>\n      <td>A</td>\n      <td>NaN</td>\n      <td>NaN</td>\n      <td>NaN</td>\n      <td>1993-94</td>\n    </tr>\n    <tr>\n      <th>246</th>\n      <td>E0</td>\n      <td>1/1/1994</td>\n      <td>Aston Villa</td>\n      <td>Blackburn</td>\n      <td>0</td>\n      <td>1</td>\n      <td>A</td>\n      <td>NaN</td>\n      <td>NaN</td>\n      <td>NaN</td>\n      <td>1993-94</td>\n    </tr>\n    <tr>\n      <th>252</th>\n      <td>E0</td>\n      <td>1/1/1994</td>\n      <td>Sheffield United</td>\n      <td>Oldham</td>\n      <td>2</td>\n      <td>1</td>\n      <td>H</td>\n      <td>NaN</td>\n      <td>NaN</td>\n      <td>NaN</td>\n      <td>1993-94</td>\n    </tr>\n  </tbody>\n</table>\n<p>9664 rows × 11 columns</p>\n</div>",
      "text/plain": "     Div      Date          HomeTeam     AwayTeam  FTHG  FTAG FTR  HTHG  HTAG  \\\n9317  E0  9/9/2017         Leicester      Chelsea     1     2   A   0.0   1.0   \n9314  E0  9/9/2017           Arsenal  Bournemouth     3     0   H   2.0   0.0   \n9320  E0  9/9/2017             Stoke   Man United     2     2   D   1.0   1.0   \n9319  E0  9/9/2017       Southampton      Watford     0     2   A   0.0   1.0   \n9318  E0  9/9/2017          Man City    Liverpool     5     0   H   2.0   0.0   \n...   ..       ...               ...          ...   ...   ...  ..   ...   ...   \n249   E0  1/1/1994        Man United        Leeds     0     0   D   NaN   NaN   \n248   E0  1/1/1994           Ipswich    Liverpool     1     2   A   NaN   NaN   \n247   E0  1/1/1994           Everton     West Ham     0     1   A   NaN   NaN   \n246   E0  1/1/1994       Aston Villa    Blackburn     0     1   A   NaN   NaN   \n252   E0  1/1/1994  Sheffield United       Oldham     2     1   H   NaN   NaN   \n\n      HTR   Season  \n9317    A  2017-18  \n9314    H  2017-18  \n9320    D  2017-18  \n9319    A  2017-18  \n9318    H  2017-18  \n...   ...      ...  \n249   NaN  1993-94  \n248   NaN  1993-94  \n247   NaN  1993-94  \n246   NaN  1993-94  \n252   NaN  1993-94  \n\n[9664 rows x 11 columns]"
     },
     "metadata": {},
     "output_type": "display_data"
    }
   ],
   "source": [
    "df = pd.read_csv(\"EPL_Set.csv\")\n",
    "df_by_date = df.sort_values(\"Date\", ascending=False)\n",
    "display(df_by_date)"
   ]
  },
  {
   "cell_type": "markdown",
   "metadata": {},
   "source": [
    "# Get the 3 most recent seasons"
   ]
  },
  {
   "cell_type": "code",
   "execution_count": 12,
   "metadata": {},
   "outputs": [
    {
     "name": "stdout",
     "output_type": "stream",
     "text": "(1141, 11)\n"
    },
    {
     "data": {
      "text/html": "<div>\n<style scoped>\n    .dataframe tbody tr th:only-of-type {\n        vertical-align: middle;\n    }\n\n    .dataframe tbody tr th {\n        vertical-align: top;\n    }\n\n    .dataframe thead th {\n        text-align: right;\n    }\n</style>\n<table border=\"1\" class=\"dataframe\">\n  <thead>\n    <tr style=\"text-align: right;\">\n      <th></th>\n      <th>Div</th>\n      <th>Date</th>\n      <th>HomeTeam</th>\n      <th>AwayTeam</th>\n      <th>FTHG</th>\n      <th>FTAG</th>\n      <th>FTR</th>\n      <th>HTHG</th>\n      <th>HTAG</th>\n      <th>HTR</th>\n      <th>Season</th>\n    </tr>\n  </thead>\n  <tbody>\n    <tr>\n      <th>8177</th>\n      <td>E0</td>\n      <td>13/09/14</td>\n      <td>Liverpool</td>\n      <td>Aston Villa</td>\n      <td>0</td>\n      <td>1</td>\n      <td>A</td>\n      <td>0.0</td>\n      <td>1.0</td>\n      <td>A</td>\n      <td>2014-15</td>\n    </tr>\n    <tr>\n      <th>8178</th>\n      <td>E0</td>\n      <td>13/09/14</td>\n      <td>Southampton</td>\n      <td>Newcastle</td>\n      <td>4</td>\n      <td>0</td>\n      <td>H</td>\n      <td>2.0</td>\n      <td>0.0</td>\n      <td>H</td>\n      <td>2014-15</td>\n    </tr>\n    <tr>\n      <th>8179</th>\n      <td>E0</td>\n      <td>13/09/14</td>\n      <td>Stoke</td>\n      <td>Leicester</td>\n      <td>0</td>\n      <td>1</td>\n      <td>A</td>\n      <td>0.0</td>\n      <td>0.0</td>\n      <td>D</td>\n      <td>2014-15</td>\n    </tr>\n    <tr>\n      <th>8180</th>\n      <td>E0</td>\n      <td>13/09/14</td>\n      <td>Sunderland</td>\n      <td>Tottenham</td>\n      <td>2</td>\n      <td>2</td>\n      <td>D</td>\n      <td>1.0</td>\n      <td>1.0</td>\n      <td>D</td>\n      <td>2014-15</td>\n    </tr>\n    <tr>\n      <th>8181</th>\n      <td>E0</td>\n      <td>13/09/14</td>\n      <td>West Brom</td>\n      <td>Everton</td>\n      <td>0</td>\n      <td>2</td>\n      <td>A</td>\n      <td>0.0</td>\n      <td>1.0</td>\n      <td>A</td>\n      <td>2014-15</td>\n    </tr>\n    <tr>\n      <th>...</th>\n      <td>...</td>\n      <td>...</td>\n      <td>...</td>\n      <td>...</td>\n      <td>...</td>\n      <td>...</td>\n      <td>...</td>\n      <td>...</td>\n      <td>...</td>\n      <td>...</td>\n      <td>...</td>\n    </tr>\n    <tr>\n      <th>9313</th>\n      <td>E0</td>\n      <td>27/08/17</td>\n      <td>West Brom</td>\n      <td>Stoke</td>\n      <td>1</td>\n      <td>1</td>\n      <td>D</td>\n      <td>0.0</td>\n      <td>0.0</td>\n      <td>D</td>\n      <td>2017-18</td>\n    </tr>\n    <tr>\n      <th>9314</th>\n      <td>E0</td>\n      <td>9/9/2017</td>\n      <td>Arsenal</td>\n      <td>Bournemouth</td>\n      <td>3</td>\n      <td>0</td>\n      <td>H</td>\n      <td>2.0</td>\n      <td>0.0</td>\n      <td>H</td>\n      <td>2017-18</td>\n    </tr>\n    <tr>\n      <th>9315</th>\n      <td>E0</td>\n      <td>9/9/2017</td>\n      <td>Brighton</td>\n      <td>West Brom</td>\n      <td>3</td>\n      <td>1</td>\n      <td>H</td>\n      <td>1.0</td>\n      <td>0.0</td>\n      <td>H</td>\n      <td>2017-18</td>\n    </tr>\n    <tr>\n      <th>9316</th>\n      <td>E0</td>\n      <td>9/9/2017</td>\n      <td>Everton</td>\n      <td>Tottenham</td>\n      <td>0</td>\n      <td>3</td>\n      <td>A</td>\n      <td>0.0</td>\n      <td>2.0</td>\n      <td>A</td>\n      <td>2017-18</td>\n    </tr>\n    <tr>\n      <th>9317</th>\n      <td>E0</td>\n      <td>9/9/2017</td>\n      <td>Leicester</td>\n      <td>Chelsea</td>\n      <td>1</td>\n      <td>2</td>\n      <td>A</td>\n      <td>0.0</td>\n      <td>1.0</td>\n      <td>A</td>\n      <td>2017-18</td>\n    </tr>\n  </tbody>\n</table>\n<p>1141 rows × 11 columns</p>\n</div>",
      "text/plain": "     Div      Date     HomeTeam     AwayTeam  FTHG  FTAG FTR  HTHG  HTAG HTR  \\\n8177  E0  13/09/14    Liverpool  Aston Villa     0     1   A   0.0   1.0   A   \n8178  E0  13/09/14  Southampton    Newcastle     4     0   H   2.0   0.0   H   \n8179  E0  13/09/14        Stoke    Leicester     0     1   A   0.0   0.0   D   \n8180  E0  13/09/14   Sunderland    Tottenham     2     2   D   1.0   1.0   D   \n8181  E0  13/09/14    West Brom      Everton     0     2   A   0.0   1.0   A   \n...   ..       ...          ...          ...   ...   ...  ..   ...   ...  ..   \n9313  E0  27/08/17    West Brom        Stoke     1     1   D   0.0   0.0   D   \n9314  E0  9/9/2017      Arsenal  Bournemouth     3     0   H   2.0   0.0   H   \n9315  E0  9/9/2017     Brighton    West Brom     3     1   H   1.0   0.0   H   \n9316  E0  9/9/2017      Everton    Tottenham     0     3   A   0.0   2.0   A   \n9317  E0  9/9/2017    Leicester      Chelsea     1     2   A   0.0   1.0   A   \n\n       Season  \n8177  2014-15  \n8178  2014-15  \n8179  2014-15  \n8180  2014-15  \n8181  2014-15  \n...       ...  \n9313  2017-18  \n9314  2017-18  \n9315  2017-18  \n9316  2017-18  \n9317  2017-18  \n\n[1141 rows x 11 columns]"
     },
     "metadata": {},
     "output_type": "display_data"
    }
   ],
   "source": [
    "ngames = 38\n",
    "nclubs = 20\n",
    "nyears = 3\n",
    "total = ngames * nclubs * nyears / 2 # total games over 3 seasons\n",
    "\n",
    "df_top3 = df.loc[9317-total:9317,]\n",
    "\n",
    "print(df_top3.shape)\n",
    "display(df_top3)"
   ]
  },
  {
   "cell_type": "code",
   "execution_count": null,
   "metadata": {},
   "outputs": [],
   "source": []
  },
  {
   "cell_type": "code",
   "execution_count": null,
   "metadata": {},
   "outputs": [],
   "source": []
  }
 ]
}